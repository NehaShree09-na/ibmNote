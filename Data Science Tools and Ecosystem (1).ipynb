{
 "cells": [
  {
   "cell_type": "markdown",
   "id": "4a88f7c5-f154-4bca-9b44-733e1c30ae95",
   "metadata": {},
   "source": [
    "# Data Science Tools and Ecosystem"
   ]
  },
  {
   "cell_type": "markdown",
   "id": "ac33c8ed-9a6b-4e96-8d2e-94018e08d66c",
   "metadata": {},
   "source": [
    "In this notebook, Data Science Tools and Ecosystem are summarized."
   ]
  },
  {
   "cell_type": "markdown",
   "id": "a7f107ec-f542-480b-92ff-db0e9bdf7140",
   "metadata": {},
   "source": [
    "Some of the popular languages that Data Scientists use are:  \n",
    "1. Python\n",
    "2. R\n",
    "3. SQL\n",
    "4. Java\n"
   ]
  },
  {
   "cell_type": "markdown",
   "id": "f8355d42-ebbf-4193-b6b7-6f8196de0760",
   "metadata": {},
   "source": [
    "Some of the commonly used libraries used by Data Scientists include:\n",
    "1. numpy\n",
    "2. pandas\n",
    "3. matplotlib\n",
    "4. scikitlearn\n",
    "5. keras"
   ]
  },
  {
   "cell_type": "markdown",
   "id": "33cda850-e705-48ab-a244-854e62494eec",
   "metadata": {},
   "source": [
    "# Objectives\n",
    "In this final assignment, you will:\n",
    "- Create a Jupyter Notebook\n",
    "- Insert code and markdown cells\n",
    "- Share your notebook through GitHub"
   ]
  },
  {
   "cell_type": "markdown",
   "id": "f04ec6fa-fb64-4734-a0ec-375ee3f90197",
   "metadata": {},
   "source": [
    "Data Science Tools\n",
    "\n",
    "| Tool | description |\n",
    "| -------------| ------ |\n",
    "| Google Colab | Web-based IDE for writing and running code interactively with markdown & plots. |\n",
    "| Jupyter Notebook | Web-based IDE for writing and running code interactively with markdown & plots. |\n",
    "| RStudio | IDE for R programming with built-in tools for plotting, debugging, and reporting. |"
   ]
  },
  {
   "cell_type": "markdown",
   "id": "9bb81aeb-8b24-476f-977f-96dfe765d30c",
   "metadata": {},
   "source": [
    "### Below are a few examples of evaluating arithmetic expressions in Python.\n",
    "\n",
    "1. Basic Arithmetic Operations\n",
    "2. Integer Division, Modulus, and Exponents\n",
    "3. Combined Expression with Precedence"
   ]
  },
  {
   "cell_type": "code",
   "execution_count": 5,
   "id": "2356e150-90d5-4232-b214-f6d1b94ddc64",
   "metadata": {},
   "outputs": [
    {
     "data": {
      "text/plain": [
       "17"
      ]
     },
     "execution_count": 5,
     "metadata": {},
     "output_type": "execute_result"
    }
   ],
   "source": [
    "#This a simple arithmetic expression to mutiply then add integers\n",
    "(3*4)+5"
   ]
  },
  {
   "cell_type": "code",
   "execution_count": 6,
   "id": "b53c4664-3846-4b34-ae7c-42b8e52d4fa8",
   "metadata": {},
   "outputs": [
    {
     "name": "stdout",
     "output_type": "stream",
     "text": [
      "Hours: 3.3333333333333335\n"
     ]
    }
   ],
   "source": [
    "# This will convert 200 minutes to hours by diving by 60.\n",
    "minutes = 200\n",
    "hours = minutes / 60\n",
    "\n",
    "print(\"Hours:\", hours)"
   ]
  },
  {
   "cell_type": "markdown",
   "id": "74268274-a871-437f-8591-64caf12b692e",
   "metadata": {},
   "source": [
    "## Author\n",
    "Name: Neha "
   ]
  },
  {
   "cell_type": "code",
   "execution_count": null,
   "id": "74e3f550-8125-434d-922e-9e51420ac997",
   "metadata": {},
   "outputs": [],
   "source": []
  }
 ],
 "metadata": {
  "kernelspec": {
   "display_name": "Python 3 (ipykernel)",
   "language": "python",
   "name": "python3"
  },
  "language_info": {
   "codemirror_mode": {
    "name": "ipython",
    "version": 3
   },
   "file_extension": ".py",
   "mimetype": "text/x-python",
   "name": "python",
   "nbconvert_exporter": "python",
   "pygments_lexer": "ipython3",
   "version": "3.12.4"
  }
 },
 "nbformat": 4,
 "nbformat_minor": 5
}
