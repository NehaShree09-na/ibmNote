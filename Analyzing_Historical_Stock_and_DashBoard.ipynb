{
 "cells": [
  {
   "cell_type": "markdown",
   "id": "e5a84c88-5c80-42a5-bc6e-e51d0d3091a3",
   "metadata": {},
   "source": [
    "### Question 1 - Extracting Tesla Stock Data Using yfinance - 2 Points\r\n"
   ]
  },
  {
   "cell_type": "code",
   "execution_count": 18,
   "id": "29f2d4b1-b6cc-45c7-9888-27729dca3ef7",
   "metadata": {},
   "outputs": [
    {
     "name": "stdout",
     "output_type": "stream",
     "text": [
      "                       Date      Open      High       Low     Close  \\\n",
      "0 2010-06-29 00:00:00-04:00  1.266667  1.666667  1.169333  1.592667   \n",
      "1 2010-06-30 00:00:00-04:00  1.719333  2.028000  1.553333  1.588667   \n",
      "2 2010-07-01 00:00:00-04:00  1.666667  1.728000  1.351333  1.464000   \n",
      "3 2010-07-02 00:00:00-04:00  1.533333  1.540000  1.247333  1.280000   \n",
      "4 2010-07-06 00:00:00-04:00  1.333333  1.333333  1.055333  1.074000   \n",
      "\n",
      "      Volume  Dividends  Stock Splits  \n",
      "0  281494500        0.0           0.0  \n",
      "1  257806500        0.0           0.0  \n",
      "2  123282000        0.0           0.0  \n",
      "3   77097000        0.0           0.0  \n",
      "4  103003500        0.0           0.0  \n"
     ]
    }
   ],
   "source": [
    "import yfinance as yf\n",
    "import pandas as pd\n",
    "\n",
    "# Fetch Tesla stock data\n",
    "tesla = yf.Ticker(\"TSLA\")\n",
    "tesla_data = tesla.history(period=\"max\")\n",
    "tesla_data.reset_index(inplace=True)\n",
    "\n",
    "# Show sample\n",
    "print(tesla_data.head())"
   ]
  },
  {
   "cell_type": "markdown",
   "id": "2e2f09e5-1a0a-4467-bffa-7e05bc65fefe",
   "metadata": {},
   "source": [
    "### Question 2 - Extracting Tesla Revenue Data Using Webscraping\n",
    "\n"
   ]
  },
  {
   "cell_type": "code",
   "execution_count": 19,
   "id": "7f0076ae-1cf1-47ba-88d7-7991321427fc",
   "metadata": {},
   "outputs": [
    {
     "name": "stdout",
     "output_type": "stream",
     "text": [
      "Empty DataFrame\n",
      "Columns: [Date, Revenue]\n",
      "Index: []\n"
     ]
    }
   ],
   "source": [
    "import requests\n",
    "from bs4 import BeautifulSoup\n",
    "\n",
    "# Scrape Tesla revenue from Macrotrends\n",
    "url_tesla = \"https://www.macrotrends.net/stocks/charts/TSLA/tesla/revenue\"\n",
    "html_data_tesla = requests.get(url_tesla).text\n",
    "soup_tesla = BeautifulSoup(html_data_tesla, \"html.parser\")\n",
    "\n",
    "tesla_revenue = pd.DataFrame(columns=[\"Date\", \"Revenue\"])\n",
    "\n",
    "tables = soup_tesla.find_all(\"table\")\n",
    "for table in tables:\n",
    "    if \"Tesla Quarterly Revenue\" in table.text:\n",
    "        rows = table.find_all(\"tr\")\n",
    "        for row in rows[1:]:\n",
    "            cols = row.find_all(\"td\")\n",
    "            if len(cols) == 2:\n",
    "                date = cols[0].text.strip()\n",
    "                revenue = cols[1].text.strip().replace(\"$\", \"\").replace(\",\", \"\")\n",
    "                if revenue != \"\":\n",
    "                    tesla_revenue = pd.concat([\n",
    "                        tesla_revenue,\n",
    "                        pd.DataFrame([[date, revenue]], columns=[\"Date\", \"Revenue\"])\n",
    "                    ], ignore_index=True)\n",
    "\n",
    "tesla_revenue[\"Revenue\"] = pd.to_numeric(tesla_revenue[\"Revenue\"], errors=\"coerce\")\n",
    "tesla_revenue.dropna(inplace=True)\n",
    "\n",
    "# Show sample\n",
    "print(tesla_revenue.head())\n"
   ]
  },
  {
   "cell_type": "markdown",
   "id": "8747b385-4433-4b1e-a206-2dde4e174f5c",
   "metadata": {},
   "source": [
    "### Question 3 - Extracting GameStop Stock Data Using yfinance\n"
   ]
  },
  {
   "cell_type": "code",
   "execution_count": 24,
   "id": "9d6208ed-8931-4237-b822-65de0a1c749e",
   "metadata": {},
   "outputs": [
    {
     "name": "stdout",
     "output_type": "stream",
     "text": [
      "                       Date      Open      High       Low     Close    Volume  \\\n",
      "0 2002-02-13 00:00:00-05:00  1.620128  1.693350  1.603296  1.691666  76216000   \n",
      "1 2002-02-14 00:00:00-05:00  1.712708  1.716074  1.670626  1.683251  11021600   \n",
      "2 2002-02-15 00:00:00-05:00  1.683250  1.687458  1.658001  1.674834   8389600   \n",
      "3 2002-02-19 00:00:00-05:00  1.666418  1.666418  1.578047  1.607504   7410400   \n",
      "4 2002-02-20 00:00:00-05:00  1.615920  1.662209  1.603296  1.662209   6892800   \n",
      "\n",
      "   Dividends  Stock Splits  \n",
      "0        0.0           0.0  \n",
      "1        0.0           0.0  \n",
      "2        0.0           0.0  \n",
      "3        0.0           0.0  \n",
      "4        0.0           0.0  \n"
     ]
    }
   ],
   "source": [
    "# Fetch GameStop stock data\n",
    "gme = yf.Ticker(\"GME\")\n",
    "gme_data = gme.history(period=\"max\")\n",
    "gme_data.reset_index(inplace=True)\n",
    "\n",
    "# Show sample\n",
    "print(gme_data.head())\n"
   ]
  },
  {
   "cell_type": "markdown",
   "id": "8ce0940d-412a-40e8-b64d-22463f90de14",
   "metadata": {},
   "source": [
    "### Question 4 - Extracting GameStop Revenue Data Using Webscraping "
   ]
  },
  {
   "cell_type": "code",
   "execution_count": 21,
   "id": "cbe87f7a-f77a-4fe2-9236-9be0ca9fefa6",
   "metadata": {},
   "outputs": [
    {
     "name": "stdout",
     "output_type": "stream",
     "text": [
      "Empty DataFrame\n",
      "Columns: [Date, Revenue]\n",
      "Index: []\n"
     ]
    }
   ],
   "source": [
    "# Scrape GameStop revenue from Macrotrends\n",
    "url_gme = \"https://www.macrotrends.net/stocks/charts/GME/gamestop/revenue\"\n",
    "html_data_gme = requests.get(url_gme).text\n",
    "soup_gme = BeautifulSoup(html_data_gme, \"html.parser\")\n",
    "\n",
    "gme_revenue = pd.DataFrame(columns=[\"Date\", \"Revenue\"])\n",
    "\n",
    "tables = soup_gme.find_all(\"table\")\n",
    "for table in tables:\n",
    "    if \"GameStop Quarterly Revenue\" in table.text:\n",
    "        rows = table.find_all(\"tr\")\n",
    "        for row in rows[1:]:\n",
    "            cols = row.find_all(\"td\")\n",
    "            if len(cols) == 2:\n",
    "                date = cols[0].text.strip()\n",
    "                revenue = cols[1].text.strip().replace(\"$\", \"\").replace(\",\", \"\")\n",
    "                if revenue != \"\":\n",
    "                    gme_revenue = pd.concat([\n",
    "                        gme_revenue,\n",
    "                        pd.DataFrame([[date, revenue]], columns=[\"Date\", \"Revenue\"])\n",
    "                    ], ignore_index=True)\n",
    "\n",
    "gme_revenue[\"Revenue\"] = pd.to_numeric(gme_revenue[\"Revenue\"], errors=\"coerce\")\n",
    "gme_revenue.dropna(inplace=True)\n",
    "\n",
    "# Show sample\n",
    "print(gme_revenue.head())\n"
   ]
  },
  {
   "cell_type": "markdown",
   "id": "dd875d9e-7514-4adf-936c-72497ca46c03",
   "metadata": {},
   "source": [
    "### Question 5 - Tesla Stock and Revenue Dashboard\r\n"
   ]
  },
  {
   "cell_type": "code",
   "execution_count": 22,
   "id": "9194cc58-5ebf-468e-820a-1b442b6c7b9a",
   "metadata": {},
   "outputs": [
    {
     "data": {
      "text/html": [
       "<iframe\n",
       "    scrolling=\"no\"\n",
       "    width=\"100%\"\n",
       "    height=\"620\"\n",
       "    src=\"iframe_figures/figure_22.html\"\n",
       "    frameborder=\"0\"\n",
       "    allowfullscreen\n",
       "></iframe>\n"
      ]
     },
     "metadata": {},
     "output_type": "display_data"
    }
   ],
   "source": [
    "from plotly.subplots import make_subplots\n",
    "import plotly.graph_objs as go\n",
    "\n",
    "# Plot Tesla dashboard\n",
    "fig1 = make_subplots(rows=2, cols=1, shared_xaxes=True,\n",
    "                     subplot_titles=(\"Tesla Stock Price\", \"Tesla Revenue\"),\n",
    "                     vertical_spacing=0.1)\n",
    "\n",
    "fig1.add_trace(go.Scatter(x=tesla_data['Date'], y=tesla_data['Close'], name=\"TSLA Stock Price\"), row=1, col=1)\n",
    "fig1.add_trace(go.Scatter(x=tesla_revenue['Date'], y=tesla_revenue['Revenue'], name=\"TSLA Revenue\"), row=2, col=1)\n",
    "\n",
    "fig1.update_layout(title_text=\"Tesla Stock and Revenue Dashboard\", height=600)\n",
    "fig1.show()\n"
   ]
  },
  {
   "cell_type": "markdown",
   "id": "370e8518-13ab-4994-8772-682929a23e54",
   "metadata": {},
   "source": [
    "### Question 6 - GameStop Stock and Revenue Dashboard"
   ]
  },
  {
   "cell_type": "code",
   "execution_count": 23,
   "id": "1f59d09d-13a2-4ef8-ac40-ec0607d48f0e",
   "metadata": {},
   "outputs": [
    {
     "data": {
      "text/html": [
       "<iframe\n",
       "    scrolling=\"no\"\n",
       "    width=\"100%\"\n",
       "    height=\"620\"\n",
       "    src=\"iframe_figures/figure_23.html\"\n",
       "    frameborder=\"0\"\n",
       "    allowfullscreen\n",
       "></iframe>\n"
      ]
     },
     "metadata": {},
     "output_type": "display_data"
    }
   ],
   "source": [
    "# Plot GameStop dashboard\n",
    "fig2 = make_subplots(rows=2, cols=1, shared_xaxes=True,\n",
    "                     subplot_titles=(\"GameStop Stock Price\", \"GameStop Revenue\"),\n",
    "                     vertical_spacing=0.1)\n",
    "\n",
    "fig2.add_trace(go.Scatter(x=gme_data['Date'], y=gme_data['Close'], name=\"GME Stock Price\"), row=1, col=1)\n",
    "fig2.add_trace(go.Scatter(x=gme_revenue['Date'], y=gme_revenue['Revenue'], name=\"GME Revenue\"), row=2, col=1)\n",
    "\n",
    "fig2.update_layout(title_text=\"GameStop Stock and Revenue Dashboard\", height=600)\n",
    "fig2.show()\n"
   ]
  },
  {
   "cell_type": "code",
   "execution_count": null,
   "id": "8bd89893-3a5c-4c28-b350-27e275092347",
   "metadata": {},
   "outputs": [],
   "source": []
  }
 ],
 "metadata": {
  "kernelspec": {
   "display_name": "Python 3 (ipykernel)",
   "language": "python",
   "name": "python3"
  },
  "language_info": {
   "codemirror_mode": {
    "name": "ipython",
    "version": 3
   },
   "file_extension": ".py",
   "mimetype": "text/x-python",
   "name": "python",
   "nbconvert_exporter": "python",
   "pygments_lexer": "ipython3",
   "version": "3.12.4"
  }
 },
 "nbformat": 4,
 "nbformat_minor": 5
}
